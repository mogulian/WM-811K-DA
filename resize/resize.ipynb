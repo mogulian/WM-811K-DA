{
 "cells": [
  {
   "cell_type": "code",
   "execution_count": 93,
   "metadata": {},
   "outputs": [
    {
     "name": "stdout",
     "output_type": "stream",
     "text": [
      "Virtual devices cannot be modified after being initialized\n"
     ]
    }
   ],
   "source": [
    "import tensorflow as tf\n",
    "# TensorFlow GPU 메모리 할당 설정\n",
    "gpus = tf.config.experimental.list_physical_devices('GPU')\n",
    "if gpus:\n",
    "  # 첫 번째 GPU에 대해 메모리 1GB만 할당\n",
    "  try:\n",
    "    tf.config.experimental.set_virtual_device_configuration(\n",
    "        gpus[0],\n",
    "        [tf.config.experimental.VirtualDeviceConfiguration(memory_limit=1024)])\n",
    "    logical_gpus = tf.config.experimental.list_logical_devices('GPU')\n",
    "    print(len(gpus), \"Physical GPUs,\", len(logical_gpus), \"Logical GPUs\")\n",
    "  except RuntimeError as e:\n",
    "    # GPU 초기화 전에 가상 장치를 설정해야 함\n",
    "    print(e)"
   ]
  },
  {
   "cell_type": "code",
   "execution_count": 84,
   "metadata": {},
   "outputs": [],
   "source": [
    "import tensorflow as tf\n",
    "import pandas as pd\n",
    "import numpy as np\n",
    "import pickle\n",
    "import sys\n",
    "import gc\n",
    "import time\n",
    "import cv2\n",
    "import seaborn as sns\n",
    "sns.set()\n",
    "import plotly\n",
    "import matplotlib.pyplot as plt\n",
    "from keras.utils import to_categorical\n",
    "from keras.wrappers.scikit_learn import KerasClassifier \n",
    "from sklearn.model_selection import KFold \n",
    "from sklearn.model_selection import cross_val_score\n",
    "\n",
    "from sklearn.model_selection import train_test_split\n",
    "import glob\n",
    "import imageio\n",
    "import matplotlib.pyplot as plt\n",
    "import numpy as np\n",
    "import os\n",
    "import PIL\n",
    "from tensorflow.keras import layers, Input, models\n",
    "import time\n",
    "\n",
    "from IPython import display"
   ]
  },
  {
   "cell_type": "code",
   "execution_count": 1,
   "metadata": {},
   "outputs": [],
   "source": [
    "import seaborn as sns"
   ]
  },
  {
   "cell_type": "code",
   "execution_count": 52,
   "metadata": {},
   "outputs": [],
   "source": [
    "# Load in our libraries\n",
    "import pandas as pd\n",
    "import numpy as np\n",
    "import sklearn\n",
    "import matplotlib.pyplot as plt\n",
    "import seaborn as sns\n",
    "sns.set(font_scale=2)\n",
    "import cv2\n",
    "\n",
    "\n",
    "from sklearn.model_selection import KFold\n",
    "\n",
    "\n",
    "\n",
    "%matplotlib inline\n",
    "\n",
    "from PIL import Image"
   ]
  },
  {
   "cell_type": "code",
   "execution_count": 106,
   "metadata": {},
   "outputs": [],
   "source": [
    "df = pd.read_pickle(\"df_train.pkl\")\n",
    "\n"
   ]
  },
  {
   "cell_type": "code",
   "execution_count": 107,
   "metadata": {},
   "outputs": [
    {
     "data": {
      "text/plain": [
       "(649165, 6)"
      ]
     },
     "execution_count": 107,
     "metadata": {},
     "output_type": "execute_result"
    }
   ],
   "source": [
    "df.shape"
   ]
  },
  {
   "cell_type": "code",
   "execution_count": 108,
   "metadata": {},
   "outputs": [
    {
     "name": "stdout",
     "output_type": "stream",
     "text": [
      "<class 'pandas.core.frame.DataFrame'>\n",
      "Index: 649165 entries, 711962 to 328645\n",
      "Data columns (total 6 columns):\n",
      " #   Column          Non-Null Count   Dtype  \n",
      "---  ------          --------------   -----  \n",
      " 0   waferMap        649165 non-null  object \n",
      " 1   dieSize         649165 non-null  float64\n",
      " 2   lotName         649165 non-null  object \n",
      " 3   waferIndex      649165 non-null  float64\n",
      " 4   trianTestLabel  649165 non-null  object \n",
      " 5   failureType     649165 non-null  object \n",
      "dtypes: float64(2), object(4)\n",
      "memory usage: 34.7+ MB\n"
     ]
    }
   ],
   "source": [
    "df.info()"
   ]
  },
  {
   "cell_type": "code",
   "execution_count": 109,
   "metadata": {},
   "outputs": [],
   "source": [
    "df = df.drop(['waferIndex'], axis = 1)\n"
   ]
  },
  {
   "cell_type": "code",
   "execution_count": 110,
   "metadata": {},
   "outputs": [
    {
     "data": {
      "text/html": [
       "<div>\n",
       "<style scoped>\n",
       "    .dataframe tbody tr th:only-of-type {\n",
       "        vertical-align: middle;\n",
       "    }\n",
       "\n",
       "    .dataframe tbody tr th {\n",
       "        vertical-align: top;\n",
       "    }\n",
       "\n",
       "    .dataframe thead th {\n",
       "        text-align: right;\n",
       "    }\n",
       "</style>\n",
       "<table border=\"1\" class=\"dataframe\">\n",
       "  <thead>\n",
       "    <tr style=\"text-align: right;\">\n",
       "      <th></th>\n",
       "      <th>waferMap</th>\n",
       "      <th>dieSize</th>\n",
       "      <th>lotName</th>\n",
       "      <th>trianTestLabel</th>\n",
       "      <th>failureType</th>\n",
       "      <th>waferMapDim</th>\n",
       "    </tr>\n",
       "  </thead>\n",
       "  <tbody>\n",
       "    <tr>\n",
       "      <th>381991</th>\n",
       "      <td>[[0, 0, 0, 0, 0, 0, 0, 0, 0, 0, 0, 0, 0, 0, 0,...</td>\n",
       "      <td>2393.0</td>\n",
       "      <td>lot22828</td>\n",
       "      <td>[]</td>\n",
       "      <td>[]</td>\n",
       "      <td>(52, 59)</td>\n",
       "    </tr>\n",
       "    <tr>\n",
       "      <th>323867</th>\n",
       "      <td>[[0, 0, 0, 0, 0, 0, 0, 0, 0, 0, 0, 0, 0, 0, 0,...</td>\n",
       "      <td>4423.0</td>\n",
       "      <td>lot19600</td>\n",
       "      <td>[]</td>\n",
       "      <td>[]</td>\n",
       "      <td>(74, 76)</td>\n",
       "    </tr>\n",
       "    <tr>\n",
       "      <th>141230</th>\n",
       "      <td>[[0, 0, 0, 0, 0, 0, 0, 0, 0, 0, 0, 0, 0, 0, 0,...</td>\n",
       "      <td>3927.0</td>\n",
       "      <td>lot9148</td>\n",
       "      <td>Training</td>\n",
       "      <td>Edge-Ring</td>\n",
       "      <td>(69, 73)</td>\n",
       "    </tr>\n",
       "    <tr>\n",
       "      <th>740888</th>\n",
       "      <td>[[0, 0, 0, 0, 0, 0, 0, 0, 0, 0, 0, 0, 2, 1, 2,...</td>\n",
       "      <td>939.0</td>\n",
       "      <td>lot44678</td>\n",
       "      <td>[]</td>\n",
       "      <td>[]</td>\n",
       "      <td>(39, 31)</td>\n",
       "    </tr>\n",
       "    <tr>\n",
       "      <th>464053</th>\n",
       "      <td>[[0, 0, 0, 0, 0, 0, 0, 0, 0, 0, 0, 0, 2, 1, 1,...</td>\n",
       "      <td>712.0</td>\n",
       "      <td>lot28547</td>\n",
       "      <td>[]</td>\n",
       "      <td>[]</td>\n",
       "      <td>(32, 29)</td>\n",
       "    </tr>\n",
       "  </tbody>\n",
       "</table>\n",
       "</div>"
      ],
      "text/plain": [
       "                                                 waferMap  dieSize   lotName  \\\n",
       "381991  [[0, 0, 0, 0, 0, 0, 0, 0, 0, 0, 0, 0, 0, 0, 0,...   2393.0  lot22828   \n",
       "323867  [[0, 0, 0, 0, 0, 0, 0, 0, 0, 0, 0, 0, 0, 0, 0,...   4423.0  lot19600   \n",
       "141230  [[0, 0, 0, 0, 0, 0, 0, 0, 0, 0, 0, 0, 0, 0, 0,...   3927.0   lot9148   \n",
       "740888  [[0, 0, 0, 0, 0, 0, 0, 0, 0, 0, 0, 0, 2, 1, 2,...    939.0  lot44678   \n",
       "464053  [[0, 0, 0, 0, 0, 0, 0, 0, 0, 0, 0, 0, 2, 1, 1,...    712.0  lot28547   \n",
       "\n",
       "       trianTestLabel failureType waferMapDim  \n",
       "381991             []          []    (52, 59)  \n",
       "323867             []          []    (74, 76)  \n",
       "141230       Training   Edge-Ring    (69, 73)  \n",
       "740888             []          []    (39, 31)  \n",
       "464053             []          []    (32, 29)  "
      ]
     },
     "execution_count": 110,
     "metadata": {},
     "output_type": "execute_result"
    }
   ],
   "source": [
    "#add wafermapDim column because waferMap dim is different each other.\n",
    "def find_dim(x):\n",
    "    dim0=np.size(x,axis=0)\n",
    "    dim1=np.size(x,axis=1)\n",
    "    return dim0,dim1\n",
    "df['waferMapDim']=df.waferMap.apply(find_dim)\n",
    "df.sample(5)"
   ]
  },
  {
   "cell_type": "code",
   "execution_count": 111,
   "metadata": {},
   "outputs": [],
   "source": [
    "dim=df['waferMapDim'].values"
   ]
  },
  {
   "cell_type": "markdown",
   "metadata": {},
   "source": [
    "### 밀집된 분포 탐지\n"
   ]
  },
  {
   "cell_type": "code",
   "execution_count": 112,
   "metadata": {},
   "outputs": [
    {
     "data": {
      "image/png": "[encoded data removed]",
      "text/plain": [
       "<Figure size 640x480 with 1 Axes>"
      ]
     },
     "metadata": {},
     "output_type": "display_data"
    }
   ],
   "source": [
    "diesize=df['dieSize']\n",
    "\n",
    "plt.hist(diesize, edgecolor='black', bins=1000)\n",
    "plt.xlabel('Diesize')\n",
    "plt.ylabel('Frequency')\n",
    "plt.title('Histogram of Diesize')\n",
    "plt.show()"
   ]
  },
  {
   "cell_type": "code",
   "execution_count": 27,
   "metadata": {},
   "outputs": [
    {
     "name": "stderr",
     "output_type": "stream",
     "text": [
      "C:\\Users\\USER\\AppData\\Local\\Temp\\ipykernel_2420\\243039445.py:1: FutureWarning: \n",
      "\n",
      "`shade` is now deprecated in favor of `fill`; setting `fill=True`.\n",
      "This will become an error in seaborn v0.14.0; please update your code.\n",
      "\n",
      "  sns.kdeplot(diesize, shade=True)\n"
     ]
    },
    {
     "data": {
      "image/png": "[encoded data removed]",
      "text/plain": [
       "<Figure size 640x480 with 1 Axes>"
      ]
     },
     "metadata": {},
     "output_type": "display_data"
    }
   ],
   "source": [
    "sns.kdeplot(diesize, shade=True)\n",
    "plt.xlabel('Diesize')\n",
    "plt.ylabel('Density')\n",
    "plt.title('KDE Plot of Diesize')\n",
    "plt.show()"
   ]
  },
  {
   "cell_type": "code",
   "execution_count": 113,
   "metadata": {},
   "outputs": [
    {
     "name": "stdout",
     "output_type": "stream",
     "text": [
      "dieSize 범위: [501.9368029739777, 529.6555142503098)\n",
      "해당 범위 데이터 비율: 19.49%\n"
     ]
    }
   ],
   "source": [
    "\n",
    "# 1. 레이블링된 데이터 추출\n",
    "labeled_data = df[df['failureType'].astype(str) != '[]'].copy()\n",
    "\n",
    "# 2. dieSize 분포 계산\n",
    "dieSize_distribution, bins = np.histogram(labeled_data['dieSize'], bins='auto')\n",
    "\n",
    "# 3. 각 구간별 비율 계산\n",
    "proportion = dieSize_distribution / dieSize_distribution.sum()\n",
    "\n",
    "# 4. 누적 비율 계산\n",
    "cumulative_proportion = np.cumsum(proportion)\n",
    "\n",
    "# 5. 누적 비율이 0.1을 초과하는 첫 번째 구간 찾기\n",
    "target_bin_index = np.argmax(cumulative_proportion > 0.1)\n",
    "\n",
    "# 6. 해당 구간의 범위 추출\n",
    "lower_bound = bins[target_bin_index]\n",
    "upper_bound = bins[target_bin_index + 1]\n",
    "\n",
    "# 7. 결과 출력\n",
    "print(f\"dieSize 범위: [{lower_bound}, {upper_bound})\")\n",
    "print(f\"해당 범위 데이터 비율: {cumulative_proportion[target_bin_index]:.2%}\")\n"
   ]
  },
  {
   "cell_type": "code",
   "execution_count": 114,
   "metadata": {},
   "outputs": [
    {
     "name": "stdout",
     "output_type": "stream",
     "text": [
      "dieSize 범위: [1472.091697645601, 1499.810408921933)\n",
      "해당 범위 데이터 비율: 90.71%\n"
     ]
    }
   ],
   "source": [
    "# 5. 누적 비율이 0.9을 초과하는 첫 번째 구간 찾기\n",
    "target_bin_index = np.argmax(cumulative_proportion > 0.9)\n",
    "\n",
    "# 6. 해당 구간의 범위 추출\n",
    "lower_bound1 = bins[target_bin_index]\n",
    "upper_bound1 = bins[target_bin_index + 1]\n",
    "\n",
    "# 7. 결과 출력\n",
    "print(f\"dieSize 범위: [{lower_bound1}, {upper_bound1})\")\n",
    "print(f\"해당 범위 데이터 비율: {cumulative_proportion[target_bin_index]:.2%}\")"
   ]
  },
  {
   "cell_type": "code",
   "execution_count": 132,
   "metadata": {},
   "outputs": [
    {
     "data": {
      "text/plain": [
       "waferMapDim\n",
       "(25, 27)    15051\n",
       "(26, 26)    11528\n",
       "(30, 34)     9941\n",
       "(29, 26)     9348\n",
       "(27, 25)     8538\n",
       "            ...  \n",
       "(66, 78)        1\n",
       "(22, 35)        1\n",
       "(59, 55)        1\n",
       "(72, 50)        1\n",
       "(42, 39)        1\n",
       "Name: count, Length: 336, dtype: int64"
      ]
     },
     "execution_count": 132,
     "metadata": {},
     "output_type": "execute_result"
    }
   ],
   "source": [
    "labeled_data['waferMapDim'].value_counts() #use two dim (25,27) & (26,26)\n"
   ]
  },
  {
   "cell_type": "code",
   "execution_count": 115,
   "metadata": {},
   "outputs": [
    {
     "data": {
      "text/plain": [
       "(138360, 6)"
      ]
     },
     "execution_count": 115,
     "metadata": {},
     "output_type": "execute_result"
    }
   ],
   "source": [
    "labeled_data.shape"
   ]
  },
  {
   "cell_type": "code",
   "execution_count": 116,
   "metadata": {},
   "outputs": [],
   "source": [
    "# 1. 원하는 범위에 속하는 데이터 추출\n",
    "filtered_data = labeled_data[\n",
    "    (labeled_data['dieSize'] >= lower_bound) & (labeled_data['dieSize'] < lower_bound1)\n",
    "]\n",
    "\n",
    "# 2. waferMap 값 추출하여 리스트에 저장\n",
    "img = filtered_data['waferMap'].values\n",
    "y_train = np.array(filtered_data['failureType']).reshape(-1,1)\n"
   ]
  },
  {
   "cell_type": "code",
   "execution_count": 117,
   "metadata": {},
   "outputs": [
    {
     "name": "stdout",
     "output_type": "stream",
     "text": [
      "(121123,)\n",
      "(121123, 1)\n"
     ]
    }
   ],
   "source": [
    "print(img.shape)\n",
    "print(y_train.shape)"
   ]
  },
  {
   "cell_type": "code",
   "execution_count": 118,
   "metadata": {},
   "outputs": [
    {
     "data": {
      "text/plain": [
       "array([[0, 0, 0, 0, 0, 0, 0, 0, 0, 0, 0, 0, 2, 2, 2, 0, 0, 0, 0, 0, 0, 0,\n",
       "        0, 0, 0, 0, 0],\n",
       "       [0, 0, 0, 0, 0, 0, 0, 0, 1, 1, 1, 1, 1, 2, 1, 1, 1, 1, 2, 0, 0, 0,\n",
       "        0, 0, 0, 0, 0],\n",
       "       [0, 0, 0, 0, 0, 0, 2, 1, 1, 1, 1, 1, 1, 1, 1, 1, 1, 1, 1, 1, 2, 0,\n",
       "        0, 0, 0, 0, 0],\n",
       "       [0, 0, 0, 0, 0, 1, 1, 1, 1, 1, 1, 1, 1, 1, 1, 1, 2, 2, 1, 1, 1, 2,\n",
       "        0, 0, 0, 0, 0],\n",
       "       [0, 0, 0, 0, 2, 1, 1, 2, 1, 2, 1, 1, 2, 1, 2, 1, 2, 1, 1, 1, 1, 1,\n",
       "        1, 0, 0, 0, 0],\n",
       "       [0, 0, 0, 1, 2, 1, 1, 2, 1, 1, 1, 1, 2, 1, 2, 1, 1, 1, 2, 1, 1, 1,\n",
       "        1, 2, 0, 0, 0],\n",
       "       [0, 0, 1, 1, 1, 1, 1, 1, 1, 1, 1, 1, 1, 2, 2, 1, 2, 1, 1, 1, 1, 1,\n",
       "        1, 1, 2, 0, 0],\n",
       "       [0, 2, 2, 2, 1, 1, 1, 1, 1, 2, 1, 1, 1, 1, 2, 1, 1, 1, 1, 1, 1, 1,\n",
       "        1, 1, 1, 1, 0],\n",
       "       [0, 2, 1, 1, 1, 2, 1, 1, 1, 1, 2, 1, 1, 2, 2, 1, 1, 1, 2, 1, 2, 1,\n",
       "        2, 1, 1, 1, 0],\n",
       "       [0, 1, 1, 1, 1, 1, 1, 1, 1, 1, 1, 1, 1, 1, 1, 1, 1, 1, 2, 2, 2, 1,\n",
       "        1, 1, 2, 2, 0],\n",
       "       [2, 1, 1, 1, 1, 1, 1, 1, 1, 1, 1, 1, 1, 1, 1, 2, 1, 2, 1, 1, 2, 1,\n",
       "        1, 1, 1, 1, 1],\n",
       "       [1, 1, 2, 1, 1, 1, 1, 1, 1, 1, 2, 2, 1, 1, 1, 2, 2, 1, 1, 2, 1, 1,\n",
       "        1, 1, 1, 1, 1],\n",
       "       [2, 1, 1, 1, 1, 1, 1, 1, 1, 1, 2, 2, 2, 2, 1, 1, 1, 1, 1, 2, 1, 1,\n",
       "        2, 1, 1, 1, 2],\n",
       "       [1, 1, 1, 1, 2, 1, 2, 1, 2, 1, 1, 1, 1, 2, 2, 1, 1, 2, 2, 1, 1, 1,\n",
       "        1, 1, 1, 2, 1],\n",
       "       [2, 1, 1, 1, 1, 1, 1, 1, 1, 1, 2, 1, 1, 1, 1, 1, 1, 1, 2, 1, 1, 1,\n",
       "        1, 1, 1, 1, 1],\n",
       "       [2, 1, 1, 1, 2, 2, 2, 1, 1, 1, 1, 1, 1, 1, 1, 1, 1, 1, 1, 1, 1, 2,\n",
       "        1, 2, 2, 1, 1],\n",
       "       [0, 2, 1, 1, 1, 1, 1, 1, 1, 1, 2, 1, 1, 1, 2, 1, 1, 1, 1, 1, 1, 1,\n",
       "        2, 1, 1, 1, 0],\n",
       "       [0, 1, 1, 1, 1, 1, 1, 1, 2, 1, 1, 1, 1, 1, 1, 2, 1, 2, 1, 1, 1, 1,\n",
       "        1, 2, 1, 2, 0],\n",
       "       [0, 0, 1, 1, 2, 1, 1, 1, 1, 2, 1, 1, 2, 1, 2, 2, 1, 1, 1, 2, 1, 1,\n",
       "        1, 1, 1, 0, 0],\n",
       "       [0, 0, 2, 1, 1, 1, 1, 1, 1, 1, 2, 1, 2, 2, 1, 1, 1, 1, 1, 1, 1, 1,\n",
       "        1, 1, 0, 0, 0],\n",
       "       [0, 0, 0, 1, 2, 2, 1, 2, 1, 1, 2, 1, 2, 1, 2, 2, 1, 1, 1, 1, 1, 1,\n",
       "        1, 1, 0, 0, 0],\n",
       "       [0, 0, 0, 0, 2, 1, 2, 2, 1, 1, 1, 1, 1, 1, 1, 1, 1, 1, 2, 2, 2, 1,\n",
       "        2, 0, 0, 0, 0],\n",
       "       [0, 0, 0, 0, 0, 0, 2, 1, 1, 1, 2, 1, 1, 1, 1, 1, 2, 1, 1, 1, 2, 0,\n",
       "        0, 0, 0, 0, 0],\n",
       "       [0, 0, 0, 0, 0, 0, 0, 2, 1, 1, 1, 1, 1, 1, 1, 1, 1, 1, 1, 2, 0, 0,\n",
       "        0, 0, 0, 0, 0],\n",
       "       [0, 0, 0, 0, 0, 0, 0, 0, 0, 0, 1, 1, 2, 1, 2, 1, 1, 0, 0, 0, 0, 0,\n",
       "        0, 0, 0, 0, 0]], dtype=uint8)"
      ]
     },
     "execution_count": 118,
     "metadata": {},
     "output_type": "execute_result"
    }
   ],
   "source": [
    "img[0]"
   ]
  },
  {
   "cell_type": "code",
   "execution_count": 125,
   "metadata": {},
   "outputs": [],
   "source": [
    "train_img=img"
   ]
  },
  {
   "cell_type": "code",
   "execution_count": 126,
   "metadata": {},
   "outputs": [
    {
     "data": {
      "text/plain": [
       "Text(0, 0.5, 'height')"
      ]
     },
     "execution_count": 126,
     "metadata": {},
     "output_type": "execute_result"
    },
    {
     "data": {
      "image/png": "[encoded data removed]",
      "text/plain": [
       "<Figure size 600x600 with 1 Axes>"
      ]
     },
     "metadata": {},
     "output_type": "display_data"
    }
   ],
   "source": [
    "# image size distribution\n",
    "\n",
    "x = [ img.shape[1] for img in train_img ]\n",
    "y = [ img.shape[0] for img in train_img ]\n",
    "\n",
    "# image size plot\n",
    "plt.figure(figsize=(6,6))\n",
    "plt.scatter(x,y)\n",
    "plt.xlabel(\"width\")\n",
    "plt.ylabel(\"height\")"
   ]
  },
  {
   "cell_type": "code",
   "execution_count": 129,
   "metadata": {},
   "outputs": [
    {
     "name": "stdout",
     "output_type": "stream",
     "text": [
      "최적 resize 크기: (42, 41)\n"
     ]
    }
   ],
   "source": [
    "from scipy import stats\n",
    "# 추세선 계산 (선형 회귀 사용)\n",
    "slope, intercept, r_value, p_value, std_err = stats.linregress(x, y)\n",
    "\n",
    "# 추세선 함수 정의 (x를 numpy 배열로 변환)\n",
    "def trend_line(x):\n",
    "    return slope * np.array(x) + intercept\n",
    "\n",
    "# 데이터 포인트들과 추세선 사이의 거리 계산\n",
    "distances = np.abs(y - trend_line(x))\n",
    "\n",
    "# 거리가 가장 작은 데이터 포인트의 인덱스 찾기\n",
    "optimal_index = np.argmin(distances)\n",
    "\n",
    "# 최적 resize 크기\n",
    "optimal_x = x[optimal_index]\n",
    "optimal_y = y[optimal_index]\n",
    "\n",
    "print(f\"최적 resize 크기: ({optimal_x}, {optimal_y})\")"
   ]
  },
  {
   "cell_type": "code",
   "execution_count": 130,
   "metadata": {},
   "outputs": [
    {
     "name": "stdout",
     "output_type": "stream",
     "text": [
      "0.8431617823898346\n"
     ]
    }
   ],
   "source": [
    "print(slope)"
   ]
  },
  {
   "cell_type": "code",
   "execution_count": 122,
   "metadata": {},
   "outputs": [
    {
     "data": {
      "text/plain": [
       "(121123,)"
      ]
     },
     "execution_count": 122,
     "metadata": {},
     "output_type": "execute_result"
    }
   ],
   "source": [
    "train_img.shape"
   ]
  },
  {
   "cell_type": "code",
   "execution_count": 133,
   "metadata": {},
   "outputs": [],
   "source": [
    "train_img_resized = np.array([cv2.resize(img, dsize=(26, 26)) for img in train_img])"
   ]
  },
  {
   "cell_type": "code",
   "execution_count": 134,
   "metadata": {},
   "outputs": [
    {
     "data": {
      "text/plain": [
       "(121123, 26, 26)"
      ]
     },
     "execution_count": 134,
     "metadata": {},
     "output_type": "execute_result"
    }
   ],
   "source": [
    "train_img_resized.shape"
   ]
  },
  {
   "cell_type": "code",
   "execution_count": 135,
   "metadata": {},
   "outputs": [
    {
     "name": "stdout",
     "output_type": "stream",
     "text": [
      "Faulty case list : ['Center' 'Donut' 'Edge-Loc' 'Edge-Ring' 'Loc' 'Near-full' 'Random'\n",
      " 'Scratch' 'none']\n",
      "Center : 3146\n",
      "Donut : 354\n",
      "Edge-Loc : 3389\n",
      "Edge-Ring : 3180\n",
      "Loc : 2306\n",
      "Near-full : 114\n",
      "Random : 567\n",
      "Scratch : 600\n",
      "none : 107467\n"
     ]
    }
   ],
   "source": [
    "faulty_case = np.unique(y_train)\n",
    "print('Faulty case list : {}'.format(faulty_case))\n",
    "for f in faulty_case :\n",
    "    print('{} : {}'.format(f, len(y_train[y_train==f])))"
   ]
  },
  {
   "cell_type": "code",
   "execution_count": 137,
   "metadata": {},
   "outputs": [],
   "source": [
    "x=train_img_resized.reshape((-1, 26, 26, 1))"
   ]
  },
  {
   "cell_type": "code",
   "execution_count": 138,
   "metadata": {},
   "outputs": [
    {
     "name": "stderr",
     "output_type": "stream",
     "text": [
      "C:\\Users\\USER\\AppData\\Local\\Temp\\ipykernel_6084\\1672712627.py:7: DeprecationWarning: Conversion of an array with ndim > 0 to a scalar is deprecated, and will error in future. Ensure you extract a single element from your array before performing this operation. (Deprecated NumPy 1.25.)\n",
      "  new_x[w, i, j, int(x[w, i, j])] = 1\n"
     ]
    }
   ],
   "source": [
    "# One-hot-Encoding faulty categorical variable as channel\n",
    "new_x = np.zeros((len(x), 26, 26, 3))\n",
    "\n",
    "for w in range(len(x)):\n",
    "    for i in range(26):\n",
    "        for j in range(26):\n",
    "            new_x[w, i, j, int(x[w, i, j])] = 1"
   ]
  },
  {
   "cell_type": "code",
   "execution_count": 139,
   "metadata": {},
   "outputs": [],
   "source": [
    "# none 레이블을 가진 데이터의 인덱스 찾기\n",
    "none_idx = np.where(y_train == 'none')[0]\n",
    "\n",
    "# none 레이블 데이터 삭제\n",
    "x_train = np.delete(new_x, none_idx, axis=0)\n",
    "y_train = np.delete(y_train, none_idx, axis=0)\n"
   ]
  },
  {
   "cell_type": "code",
   "execution_count": 141,
   "metadata": {},
   "outputs": [
    {
     "name": "stdout",
     "output_type": "stream",
     "text": [
      "Faulty case list : ['Center' 'Donut' 'Edge-Loc' 'Edge-Ring' 'Loc' 'Near-full' 'Random'\n",
      " 'Scratch']\n",
      "Center : 3146\n",
      "Donut : 354\n",
      "Edge-Loc : 3389\n",
      "Edge-Ring : 3180\n",
      "Loc : 2306\n",
      "Near-full : 114\n",
      "Random : 567\n",
      "Scratch : 600\n"
     ]
    }
   ],
   "source": [
    "faulty_case = np.unique(y_train)\n",
    "print('Faulty case list : {}'.format(faulty_case))\n",
    "for f in faulty_case :\n",
    "    print('{} : {}'.format(f, len(y_train[y_train==f])))"
   ]
  },
  {
   "cell_type": "code",
   "execution_count": 142,
   "metadata": {},
   "outputs": [],
   "source": [
    "# make string label data to numerical data\n",
    "for i, l in enumerate(faulty_case):\n",
    "    y_train[y_train==l] = i\n",
    "    \n",
    "# one-hot-encoding\n",
    "y_train = to_categorical(y_train)"
   ]
  },
  {
   "cell_type": "code",
   "execution_count": 202,
   "metadata": {},
   "outputs": [],
   "source": [
    "test_df=pd.read_pickle(\"df_test.pkl\")\n",
    "test_df = test_df.drop(['waferIndex'], axis = 1)\n",
    "test_labeled_data = test_df[test_df['failureType'].astype(str) != '[]'].copy()\n",
    "test_img=test_labeled_data['waferMap'].values\n",
    "\n"
   ]
  },
  {
   "cell_type": "code",
   "execution_count": 203,
   "metadata": {},
   "outputs": [],
   "source": [
    "y_test = np.array(test_labeled_data['failureType']).reshape(-1,1)\n"
   ]
  },
  {
   "cell_type": "code",
   "execution_count": 204,
   "metadata": {},
   "outputs": [
    {
     "name": "stdout",
     "output_type": "stream",
     "text": [
      "object\n"
     ]
    }
   ],
   "source": [
    "print(test_img.dtype)"
   ]
  },
  {
   "cell_type": "code",
   "execution_count": 205,
   "metadata": {},
   "outputs": [
    {
     "name": "stdout",
     "output_type": "stream",
     "text": [
      "(34590,)\n",
      "(34590, 1)\n"
     ]
    }
   ],
   "source": [
    "print(test_img.shape)\n",
    "print(y_test.shape)"
   ]
  },
  {
   "cell_type": "code",
   "execution_count": 206,
   "metadata": {},
   "outputs": [],
   "source": [
    "test_img_resized = np.array([cv2.resize(img, dsize=(26, 26)) for img in test_img])\n",
    "x_test=test_img_resized.reshape((-1, 26, 26, 1))\n"
   ]
  },
  {
   "cell_type": "code",
   "execution_count": 207,
   "metadata": {},
   "outputs": [
    {
     "data": {
      "text/plain": [
       "(34590, 26, 26, 1)"
      ]
     },
     "execution_count": 207,
     "metadata": {},
     "output_type": "execute_result"
    }
   ],
   "source": [
    "x_test.shape"
   ]
  },
  {
   "cell_type": "code",
   "execution_count": 208,
   "metadata": {},
   "outputs": [],
   "source": [
    "# none 레이블을 가진 데이터의 인덱스 찾기\n",
    "none_idx = np.where(y_test == 'none')[0]\n",
    "\n",
    "# none 레이블 데이터 삭제\n",
    "x_test = np.delete(x_test, none_idx, axis=0)\n",
    "y_test = np.delete(y_test, none_idx, axis=0)"
   ]
  },
  {
   "cell_type": "code",
   "execution_count": 209,
   "metadata": {},
   "outputs": [
    {
     "name": "stderr",
     "output_type": "stream",
     "text": [
      "C:\\Users\\USER\\AppData\\Local\\Temp\\ipykernel_6084\\3065255790.py:7: DeprecationWarning: Conversion of an array with ndim > 0 to a scalar is deprecated, and will error in future. Ensure you extract a single element from your array before performing this operation. (Deprecated NumPy 1.25.)\n",
      "  new_x_test[w, i, j, int(x_test[w, i, j])] = 1\n"
     ]
    }
   ],
   "source": [
    "# One-hot-Encoding faulty categorical variable as channel\n",
    "new_x_test = np.zeros((len(x_test), 26, 26, 3))\n",
    "\n",
    "for w in range(len(x_test)):\n",
    "    for i in range(26):\n",
    "        for j in range(26):\n",
    "            new_x_test[w, i, j, int(x_test[w, i, j])] = 1"
   ]
  },
  {
   "cell_type": "code",
   "execution_count": 210,
   "metadata": {},
   "outputs": [],
   "source": [
    "# make string label data to numerical data\n",
    "for i, l in enumerate(faulty_case):\n",
    "    y_test[y_test==l] = i\n",
    "    \n",
    "# one-hot-encoding\n",
    "y_test = to_categorical(y_test)"
   ]
  },
  {
   "cell_type": "code",
   "execution_count": 211,
   "metadata": {},
   "outputs": [
    {
     "name": "stdout",
     "output_type": "stream",
     "text": [
      "(5104, 26, 26, 3)\n",
      "(5104, 8)\n"
     ]
    }
   ],
   "source": [
    "print(new_x_test.shape)\n",
    "print(y_test.shape)"
   ]
  },
  {
   "cell_type": "code",
   "execution_count": 153,
   "metadata": {},
   "outputs": [],
   "source": [
    "def create_model():\n",
    "    input_shape = (26, 26, 3)\n",
    "    input_tensor = Input(input_shape)\n",
    "\n",
    "    conv_1 = layers.Conv2D(16, (3,3), activation='relu', padding='same')(input_tensor)\n",
    "    conv_2 = layers.Conv2D(64, (3,3), activation='relu', padding='same')(conv_1)\n",
    "    conv_3 = layers.Conv2D(128, (3,3), activation='relu', padding='same')(conv_2)\n",
    "\n",
    "    flat = layers.Flatten()(conv_3)\n",
    "\n",
    "    dense_1 = layers.Dense(512, activation='relu')(flat)\n",
    "    dense_2 = layers.Dense(128, activation='relu')(dense_1)\n",
    "    output_tensor = layers.Dense(8, activation='softmax')(dense_2)\n",
    "\n",
    "    model = models.Model(input_tensor, output_tensor)\n",
    "    model.compile(optimizer='Adam',\n",
    "                 loss='categorical_crossentropy',\n",
    "                 metrics=['accuracy'])\n",
    "\n",
    "    return model"
   ]
  },
  {
   "cell_type": "code",
   "execution_count": 154,
   "metadata": {},
   "outputs": [
    {
     "data": {
      "text/plain": [
       "(13656, 26, 26, 3)"
      ]
     },
     "execution_count": 154,
     "metadata": {},
     "output_type": "execute_result"
    }
   ],
   "source": [
    "x_train.shape"
   ]
  },
  {
   "cell_type": "code",
   "execution_count": 155,
   "metadata": {},
   "outputs": [
    {
     "data": {
      "text/plain": [
       "(13656, 8)"
      ]
     },
     "execution_count": 155,
     "metadata": {},
     "output_type": "execute_result"
    }
   ],
   "source": [
    "y_train.shape"
   ]
  },
  {
   "cell_type": "code",
   "execution_count": 158,
   "metadata": {},
   "outputs": [
    {
     "name": "stderr",
     "output_type": "stream",
     "text": [
      "C:\\Users\\USER\\AppData\\Local\\Temp\\ipykernel_6084\\359353576.py:3: DeprecationWarning: KerasClassifier is deprecated, use Sci-Keras (https://github.com/adriangb/scikeras) instead. See https://www.adriangb.com/scikeras/stable/migration.html for help migrating.\n",
      "  model = KerasClassifier(build_fn=create_model, epochs=10, batch_size=1024, verbose=2)\n"
     ]
    },
    {
     "name": "stdout",
     "output_type": "stream",
     "text": [
      "Epoch 1/10\n",
      "9/9 - 54s - loss: 3.1754 - accuracy: 0.3099 - 54s/epoch - 6s/step\n",
      "Epoch 2/10\n",
      "9/9 - 53s - loss: 1.2376 - accuracy: 0.5939 - 53s/epoch - 6s/step\n",
      "Epoch 3/10\n",
      "9/9 - 52s - loss: 0.7388 - accuracy: 0.7309 - 52s/epoch - 6s/step\n",
      "Epoch 4/10\n",
      "9/9 - 53s - loss: 0.5511 - accuracy: 0.7967 - 53s/epoch - 6s/step\n",
      "Epoch 5/10\n",
      "9/9 - 53s - loss: 0.4801 - accuracy: 0.8174 - 53s/epoch - 6s/step\n",
      "Epoch 6/10\n",
      "9/9 - 55s - loss: 0.4324 - accuracy: 0.8339 - 55s/epoch - 6s/step\n",
      "Epoch 7/10\n",
      "9/9 - 55s - loss: 0.3973 - accuracy: 0.8467 - 55s/epoch - 6s/step\n",
      "Epoch 8/10\n",
      "9/9 - 56s - loss: 0.3720 - accuracy: 0.8563 - 56s/epoch - 6s/step\n",
      "Epoch 9/10\n",
      "9/9 - 54s - loss: 0.3402 - accuracy: 0.8728 - 54s/epoch - 6s/step\n",
      "Epoch 10/10\n",
      "9/9 - 54s - loss: 0.3102 - accuracy: 0.8832 - 54s/epoch - 6s/step\n",
      "5/5 - 8s - loss: 0.3887 - accuracy: 0.8526 - 8s/epoch - 2s/step\n",
      "Epoch 1/10\n",
      "9/9 - 57s - loss: 2.6315 - accuracy: 0.2758 - 57s/epoch - 6s/step\n",
      "Epoch 2/10\n",
      "9/9 - 55s - loss: 1.2365 - accuracy: 0.5560 - 55s/epoch - 6s/step\n",
      "Epoch 3/10\n",
      "9/9 - 57s - loss: 0.7414 - accuracy: 0.7225 - 57s/epoch - 6s/step\n",
      "Epoch 4/10\n",
      "9/9 - 53s - loss: 0.5411 - accuracy: 0.8051 - 53s/epoch - 6s/step\n",
      "Epoch 5/10\n",
      "9/9 - 53s - loss: 0.4523 - accuracy: 0.8316 - 53s/epoch - 6s/step\n",
      "Epoch 6/10\n",
      "9/9 - 52s - loss: 0.4068 - accuracy: 0.8471 - 52s/epoch - 6s/step\n",
      "Epoch 7/10\n",
      "9/9 - 52s - loss: 0.3643 - accuracy: 0.8657 - 52s/epoch - 6s/step\n",
      "Epoch 8/10\n",
      "9/9 - 52s - loss: 0.3205 - accuracy: 0.8816 - 52s/epoch - 6s/step\n",
      "Epoch 9/10\n",
      "9/9 - 55s - loss: 0.2829 - accuracy: 0.8976 - 55s/epoch - 6s/step\n",
      "Epoch 10/10\n",
      "9/9 - 56s - loss: 0.2446 - accuracy: 0.9120 - 56s/epoch - 6s/step\n",
      "5/5 - 9s - loss: 0.4038 - accuracy: 0.8515 - 9s/epoch - 2s/step\n",
      "Epoch 1/10\n",
      "9/9 - 56s - loss: 2.2597 - accuracy: 0.2972 - 56s/epoch - 6s/step\n",
      "Epoch 2/10\n",
      "9/9 - 54s - loss: 1.0174 - accuracy: 0.6168 - 54s/epoch - 6s/step\n",
      "Epoch 3/10\n",
      "9/9 - 52s - loss: 0.6435 - accuracy: 0.7723 - 52s/epoch - 6s/step\n",
      "Epoch 4/10\n",
      "9/9 - 50s - loss: 0.4908 - accuracy: 0.8188 - 50s/epoch - 6s/step\n",
      "Epoch 5/10\n",
      "9/9 - 51s - loss: 0.4322 - accuracy: 0.8338 - 51s/epoch - 6s/step\n",
      "Epoch 6/10\n",
      "9/9 - 48s - loss: 0.3857 - accuracy: 0.8498 - 48s/epoch - 5s/step\n",
      "Epoch 7/10\n",
      "9/9 - 49s - loss: 0.3376 - accuracy: 0.8737 - 49s/epoch - 5s/step\n",
      "Epoch 8/10\n",
      "9/9 - 53s - loss: 0.2934 - accuracy: 0.8879 - 53s/epoch - 6s/step\n",
      "Epoch 9/10\n",
      "9/9 - 49s - loss: 0.2526 - accuracy: 0.9036 - 49s/epoch - 5s/step\n",
      "Epoch 10/10\n",
      "9/9 - 53s - loss: 0.2196 - accuracy: 0.9200 - 53s/epoch - 6s/step\n",
      "5/5 - 8s - loss: 0.3835 - accuracy: 0.8631 - 8s/epoch - 2s/step\n",
      "Simple CNN Cross validation score : 0.8557\n"
     ]
    }
   ],
   "source": [
    "with tf.device('/cpu:0'):\n",
    "# Make keras model to sklearn classifier.\n",
    "    model = KerasClassifier(build_fn=create_model, epochs=10, batch_size=1024, verbose=2) \n",
    "# 3-Fold Crossvalidation\n",
    "    kfold = KFold(n_splits=3, shuffle=True, random_state=2019) \n",
    "    results = cross_val_score(model, x_train, y_train, cv=kfold)\n",
    "# Check 3-fold model's mean accuracy\n",
    "    print('Simple CNN Cross validation score : {:.4f}'.format(np.mean(results)))"
   ]
  },
  {
   "cell_type": "code",
   "execution_count": 160,
   "metadata": {},
   "outputs": [
    {
     "name": "stderr",
     "output_type": "stream",
     "text": [
      "C:\\Users\\USER\\AppData\\Local\\Temp\\ipykernel_6084\\64607208.py:3: DeprecationWarning: KerasClassifier is deprecated, use Sci-Keras (https://github.com/adriangb/scikeras) instead. See https://www.adriangb.com/scikeras/stable/migration.html for help migrating.\n",
      "  model = KerasClassifier(build_fn=create_model, epochs=15, batch_size=1024, verbose=2)\n"
     ]
    },
    {
     "name": "stdout",
     "output_type": "stream",
     "text": [
      "Epoch 1/15\n",
      "14/14 - 82s - loss: 2.9330 - accuracy: 0.3207 - 82s/epoch - 6s/step\n",
      "Epoch 2/15\n",
      "14/14 - 74s - loss: 0.9210 - accuracy: 0.6690 - 74s/epoch - 5s/step\n",
      "Epoch 3/15\n",
      "14/14 - 73s - loss: 0.5958 - accuracy: 0.7748 - 73s/epoch - 5s/step\n",
      "Epoch 4/15\n",
      "14/14 - 73s - loss: 0.4934 - accuracy: 0.8177 - 73s/epoch - 5s/step\n",
      "Epoch 5/15\n",
      "14/14 - 74s - loss: 0.4292 - accuracy: 0.8396 - 74s/epoch - 5s/step\n",
      "Epoch 6/15\n",
      "14/14 - 75s - loss: 0.3814 - accuracy: 0.8557 - 75s/epoch - 5s/step\n",
      "Epoch 7/15\n",
      "14/14 - 73s - loss: 0.3418 - accuracy: 0.8705 - 73s/epoch - 5s/step\n",
      "Epoch 8/15\n",
      "14/14 - 73s - loss: 0.3112 - accuracy: 0.8837 - 73s/epoch - 5s/step\n",
      "Epoch 9/15\n",
      "14/14 - 74s - loss: 0.3056 - accuracy: 0.8823 - 74s/epoch - 5s/step\n",
      "Epoch 10/15\n",
      "14/14 - 73s - loss: 0.2670 - accuracy: 0.9016 - 73s/epoch - 5s/step\n",
      "Epoch 11/15\n",
      "14/14 - 73s - loss: 0.2442 - accuracy: 0.9105 - 73s/epoch - 5s/step\n",
      "Epoch 12/15\n",
      "14/14 - 73s - loss: 0.2266 - accuracy: 0.9163 - 73s/epoch - 5s/step\n",
      "Epoch 13/15\n",
      "14/14 - 73s - loss: 0.2031 - accuracy: 0.9277 - 73s/epoch - 5s/step\n",
      "Epoch 14/15\n",
      "14/14 - 73s - loss: 0.1576 - accuracy: 0.9452 - 73s/epoch - 5s/step\n",
      "Epoch 15/15\n",
      "14/14 - 73s - loss: 0.1288 - accuracy: 0.9556 - 73s/epoch - 5s/step\n"
     ]
    }
   ],
   "source": [
    "with tf.device('/cpu:0'):\n",
    "    # Keras 모델 생성\n",
    "    model = KerasClassifier(build_fn=create_model, epochs=15, batch_size=1024, verbose=2) \n",
    "\n",
    "    # 모델 학습 (교차 검증 없이 전체 훈련 데이터 사용)\n",
    "    model.fit(x_train, y_train)"
   ]
  },
  {
   "cell_type": "code",
   "execution_count": 169,
   "metadata": {},
   "outputs": [
    {
     "data": {
      "text/plain": [
       "(5104, 26, 26, 3)"
      ]
     },
     "execution_count": 169,
     "metadata": {},
     "output_type": "execute_result"
    }
   ],
   "source": [
    "new_x_test.shape"
   ]
  },
  {
   "cell_type": "code",
   "execution_count": 170,
   "metadata": {},
   "outputs": [
    {
     "data": {
      "text/plain": [
       "(5104,)"
      ]
     },
     "execution_count": 170,
     "metadata": {},
     "output_type": "execute_result"
    }
   ],
   "source": [
    "y_pred.shape"
   ]
  },
  {
   "cell_type": "code",
   "execution_count": 212,
   "metadata": {},
   "outputs": [
    {
     "name": "stdout",
     "output_type": "stream",
     "text": [
      "160/160 [==============================] - 16s 100ms/step\n",
      "Simple CNN Accuracy: 0.8123\n"
     ]
    }
   ],
   "source": [
    " \n",
    "from sklearn.metrics import accuracy_score\n",
    "\n",
    "with tf.device('/cpu:0'):\n",
    "\n",
    "   # 훈련된 모델로 예측 수행 (옵션)\n",
    "   y_pred = model.predict(new_x_test)\n",
    "   y_pred_one_hot = to_categorical(y_pred, num_classes=8)  # num_classes는 클래스 개수에 맞게 설정\n",
    "\n",
    "   # 모델 평가\n",
    "   score = accuracy_score(y_test, y_pred_one_hot)  \n",
    "   # 또는 다른 적절한 평가 지표 사용\n",
    "   print('Simple CNN Accuracy: {:.4f}'.format(score))"
   ]
  }
 ],
 "metadata": {
  "kernelspec": {
   "display_name": "CUDAT",
   "language": "python",
   "name": "python3"
  },
  "language_info": {
   "codemirror_mode": {
    "name": "ipython",
    "version": 3
   },
   "file_extension": ".py",
   "mimetype": "text/x-python",
   "name": "python",
   "nbconvert_exporter": "python",
   "pygments_lexer": "ipython3",
   "version": "3.10.14"
  }
 },
 "nbformat": 4,
 "nbformat_minor": 2
}
